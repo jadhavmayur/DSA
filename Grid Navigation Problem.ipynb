{
 "cells": [
  {
   "cell_type": "markdown",
   "id": "eb85824b",
   "metadata": {},
   "source": [
    "## Grid Navigation Problem"
   ]
  },
  {
   "cell_type": "markdown",
   "id": "9faf6290",
   "metadata": {},
   "source": [
    "The code is a recursive function that explores all possible paths in a boolean matrix (where True indicates a valid cell to move to). The goal is to find all paths from the starting position (0,0) (top-left) to the ending position (n-1,m-1) (bottom-right) using movements Down (D), Right (R), Up (U), and Left (L)."
   ]
  },
  {
   "cell_type": "code",
   "execution_count": 1,
   "id": "4110bd35",
   "metadata": {},
   "outputs": [],
   "source": [
    "import numpy as np"
   ]
  },
  {
   "cell_type": "markdown",
   "id": "d2137ef0",
   "metadata": {},
   "source": [
    "#### Creating the Matrix:"
   ]
  },
  {
   "cell_type": "markdown",
   "id": "a3a0175a",
   "metadata": {},
   "source": [
    "Here, a 3x3 matrix filled with True values is created. Each True indicates a cell that can be visited."
   ]
  },
  {
   "cell_type": "code",
   "execution_count": 2,
   "id": "021b25ed",
   "metadata": {},
   "outputs": [],
   "source": [
    "matrix=np.array([[True, True, True],\n",
    "                 [True, True, True],\n",
    "                 [True, True, True]])"
   ]
  },
  {
   "cell_type": "markdown",
   "id": "a49250f7",
   "metadata": {},
   "source": [
    "#### create function"
   ]
  },
  {
   "cell_type": "markdown",
   "id": "c0a1b3b3",
   "metadata": {},
   "source": [
    "* p: a string that accumulates the path taken (e.g., \"DRR\", which means Down, Right, Right).\n",
    "* matrix: the 2D array that indicates valid and invalid cells.\n",
    "* r: the current row index.\n",
    "* c: the current column index.\n",
    "\n",
    "\n",
    "* if r == len(matrix) - 1 and c == len(matrix[0]) - 1 <br>\n",
    "This checks if the current position (r, c) is the bottom-right corner of the matrix. If it is, the accumulated path p is printed, and the function returns.\n",
    "\n",
    "\n",
    "* if not matrix[r][c]:<br>\n",
    " This checks if the current cell is False (not valid). If it is not valid, the function returns without doing anything.\n",
    " \n",
    " \n",
    "* Move Down (D):<br>\n",
    "if r < len(matrix) - 1:<br>\n",
    "    all_path(p + \"D\", matrix, r + 1, c)<br>\n",
    "\n",
    "* Move Right (R):<br>\n",
    "if c < len(matrix[0]) - 1:<br>\n",
    "    all_path(p + \"R\", matrix, r, c + 1)<br>\n",
    "\n",
    "* Move Up (U): <br>\n",
    "if r > 0: <br>\n",
    "    all_path(p + \"U\", matrix, r - 1, c)<br>\n",
    "    \n",
    "* Move Left (L): <br>\n",
    "if c > 0:<br>\n",
    "    all_path(p + \"L\", matrix, r, c - 1)<br>\n",
    "    \n",
    "* Backtracking:<br>\n",
    "matrix[r][c] = True<br>\n",
    "This line is crucial for backtracking. After all possible paths from the current cell have been explored, the cell is marked as unvisited (True) again, allowing other paths to consider it.\n",
    "\n"
   ]
  },
  {
   "cell_type": "code",
   "execution_count": 3,
   "id": "cc7f52db",
   "metadata": {},
   "outputs": [
    {
     "name": "stdout",
     "output_type": "stream",
     "text": [
      "DDRR\n",
      "DDRURD\n",
      "DDRUURDD\n",
      "DRDR\n",
      "DRRD\n",
      "DRURDD\n",
      "RDDR\n",
      "RDRD\n",
      "RDDDRR\n",
      "RRDD\n",
      "RRDDDR\n",
      "RRDDDDRR\n"
     ]
    }
   ],
   "source": [
    "def all_path(p,matrix,r,c):\n",
    "    if r==len(matrix)-1 and c==len(matrix[0])-1:\n",
    "        print(p)\n",
    "        return \n",
    "#     print(r,c)\n",
    "    if not matrix[r][c]:\n",
    "#         print(matrix[r][c])\n",
    "        return \n",
    "    matrix[r][c]=False\n",
    "    if r<len(matrix)-1:\n",
    "        all_path(p+\"D\",matrix,r+1,c)\n",
    "    if c<len(matrix[0])-1:\n",
    "        all_path(p+\"R\",matrix,r,c+1)\n",
    "    if r>0:\n",
    "        all_path(p+\"U\",matrix,r-1,c)\n",
    "    if c>0:\n",
    "        all_path(p+\"D\",matrix,r,c-1)\n",
    "    matrix[r][c]=True\n",
    "all_path(\"\",matrix,0,0)"
   ]
  }
 ],
 "metadata": {
  "kernelspec": {
   "display_name": "Python 3 (ipykernel)",
   "language": "python",
   "name": "python3"
  },
  "language_info": {
   "codemirror_mode": {
    "name": "ipython",
    "version": 3
   },
   "file_extension": ".py",
   "mimetype": "text/x-python",
   "name": "python",
   "nbconvert_exporter": "python",
   "pygments_lexer": "ipython3",
   "version": "3.9.12"
  }
 },
 "nbformat": 4,
 "nbformat_minor": 5
}
